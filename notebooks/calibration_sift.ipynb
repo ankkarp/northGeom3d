{
 "cells": [
  {
   "cell_type": "code",
   "execution_count": 4,
   "outputs": [
    {
     "name": "stdout",
     "output_type": "stream",
     "text": [
      "Фундаментальная матрица для пары 1:\n",
      " [[ 2.20749988e-07 -2.26423808e-08 -6.23526413e-04]\n",
      " [ 4.68388846e-08  6.74199864e-09 -1.51774595e-04]\n",
      " [-3.44000057e-04  1.84792851e-05  1.00000000e+00]]\n",
      "Гомография для пары 1:\n",
      " [[-4.02597468e+00  3.61771056e+00  1.15838586e+03]\n",
      " [-5.00713756e+00  4.51428973e+00  1.39807705e+03]\n",
      " [-3.28410409e-03  2.93938146e-03  1.00000000e+00]]\n",
      "Фундаментальная матрица для пары 2:\n",
      " [[ 4.42511988e-08 -6.65512834e-08 -4.66878194e-05]\n",
      " [ 4.87787371e-08  1.15963094e-07 -2.37767274e-04]\n",
      " [-2.69670824e-04 -3.21512232e-04  1.00000000e+00]]\n",
      "Гомография для пары 2:\n",
      " [[-4.41119144e-01 -6.33920800e-01  1.78931139e+03]\n",
      " [-9.45086477e-01 -1.35920340e+00  3.83095229e+03]\n",
      " [-2.46708686e-04 -3.54837559e-04  1.00000000e+00]]\n",
      "Фундаментальная матрица для пары 3:\n",
      " [[ 1.71304820e-07 -1.59873471e-07 -1.11957930e-04]\n",
      " [ 1.04901100e-06 -1.03915187e-06 -7.26209745e-04]\n",
      " [-1.47262227e-03  1.42995685e-03  1.00000000e+00]]\n",
      "Гомография для пары 3:\n",
      " [[-1.78137826e+02  2.42597933e+02  3.58018896e+03]\n",
      " [-3.29257909e+01  4.48571844e+01  6.39848121e+02]\n",
      " [-5.10553800e-02  6.95580497e-02  1.00000000e+00]]\n"
     ]
    }
   ],
   "source": [
    "import cv2\n",
    "import numpy as np\n",
    "import os\n",
    "\n",
    "# Путь к изображениям\n",
    "LEFT_PATH = '../data/calibrate/imgs/leftcamera'\n",
    "RIGHT_PATH = '../data/calibrate/imgs/rightcamera'\n",
    "\n",
    "# Чтение изображений\n",
    "left_images = [cv2.imread(os.path.join(LEFT_PATH, fname)) for fname in os.listdir(LEFT_PATH)]\n",
    "right_images = [cv2.imread(os.path.join(RIGHT_PATH, fname)) for fname in os.listdir(RIGHT_PATH)]\n",
    "\n",
    "# Проверка количества изображений\n",
    "assert len(left_images) == len(right_images), \"Количество изображений в левом и правом каталогах не совпадает\"\n",
    "\n",
    "# Инициализация SIFT\n",
    "sift = cv2.SIFT_create(nfeatures=5000, contrastThreshold=0.02, edgeThreshold=10, sigma=1.6)\n",
    "\n",
    "# Списки для хранения всех ключевых точек и дескрипторов\n",
    "all_left_keypoints = []\n",
    "all_left_descriptors = []\n",
    "all_right_keypoints = []\n",
    "all_right_descriptors = []\n",
    "\n",
    "# Поиск ключевых точек и дескрипторов на всех изображениях\n",
    "for left_img, right_img in zip(left_images, right_images):\n",
    "    left_gray = cv2.cvtColor(left_img, cv2.COLOR_BGR2GRAY)\n",
    "    right_gray = cv2.cvtColor(right_img, cv2.COLOR_BGR2GRAY)\n",
    "\n",
    "    # Обнаружение ключевых точек и вычисление дескрипторов\n",
    "    left_kp, left_des = sift.detectAndCompute(left_gray, None)\n",
    "    right_kp, right_des = sift.detectAndCompute(right_gray, None)\n",
    "\n",
    "    all_left_keypoints.append(left_kp)\n",
    "    all_left_descriptors.append(left_des)\n",
    "    all_right_keypoints.append(right_kp)\n",
    "    all_right_descriptors.append(right_des)\n",
    "\n",
    "# Создание BFMatcher объекта для поиска соответствий между дескрипторами\n",
    "bf = cv2.BFMatcher(cv2.NORM_L2, crossCheck=True)\n",
    "\n",
    "# Перебор всех пар изображений\n",
    "for i in range(len(all_left_descriptors)):\n",
    "    # Поиск соответствий\n",
    "    matches = bf.match(all_left_descriptors[i], all_right_descriptors[i])\n",
    "\n",
    "    # Сортировка соответствий по расстоянию\n",
    "    matches = sorted(matches, key=lambda x: x.distance)\n",
    "\n",
    "    # Отображение соответствий\n",
    "    img_matches = cv2.drawMatches(left_images[i], all_left_keypoints[i], right_images[i], all_right_keypoints[i], matches[:50], None, flags=cv2.DrawMatchesFlags_NOT_DRAW_SINGLE_POINTS)\n",
    "\n",
    "    # Вывод изображения с совпадениями\n",
    "    img_matches = cv2.resize(img_matches,(1080,720))\n",
    "    cv2.imshow(f'Matches {i+1}', img_matches)\n",
    "    cv2.waitKey(0)\n",
    "    cv2.destroyAllWindows()\n",
    "\n",
    "    # Извлечение точек из совпадений\n",
    "    src_pts = np.float32([all_left_keypoints[i][m.queryIdx].pt for m in matches]).reshape(-1, 1, 2)\n",
    "    dst_pts = np.float32([all_right_keypoints[i][m.trainIdx].pt for m in matches]).reshape(-1, 1, 2)\n",
    "\n",
    "    # Вычисление фундаментальной матрицы\n",
    "    F, mask = cv2.findFundamentalMat(src_pts, dst_pts, cv2.FM_RANSAC)\n",
    "\n",
    "    # Фильтрация соответствий с использованием маски\n",
    "    matchesMask = mask.ravel().tolist()\n",
    "\n",
    "    # Вычисление гомографии\n",
    "    H, status = cv2.findHomography(src_pts, dst_pts, cv2.RANSAC, 5.0)\n",
    "\n",
    "    # Вывод фундаментальной матрицы и гомографии\n",
    "    print(f'Фундаментальная матрица для пары {i+1}:\\n', F)\n",
    "    print(f'Гомография для пары {i+1}:\\n', H)"
   ],
   "metadata": {
    "collapsed": false,
    "pycharm": {
     "name": "#%%\n"
    }
   }
  },
  {
   "cell_type": "code",
   "execution_count": null,
   "outputs": [],
   "source": [],
   "metadata": {
    "collapsed": false,
    "pycharm": {
     "name": "#%%\n"
    }
   }
  }
 ],
 "metadata": {
  "kernelspec": {
   "display_name": "Python 3",
   "language": "python",
   "name": "python3"
  },
  "language_info": {
   "codemirror_mode": {
    "name": "ipython",
    "version": 2
   },
   "file_extension": ".py",
   "mimetype": "text/x-python",
   "name": "python",
   "nbconvert_exporter": "python",
   "pygments_lexer": "ipython2",
   "version": "2.7.6"
  }
 },
 "nbformat": 4,
 "nbformat_minor": 0
}