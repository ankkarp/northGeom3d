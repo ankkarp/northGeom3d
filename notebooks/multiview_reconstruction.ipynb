{
 "cells": [
  {
   "cell_type": "code",
   "execution_count": 7,
   "metadata": {},
   "outputs": [],
   "source": [
    "src = '../data/reconstruction'\n",
    "ply = '../data/reconstruction'"
   ]
  },
  {
   "cell_type": "code",
   "execution_count": 5,
   "metadata": {},
   "outputs": [],
   "source": [
    "from Multiview_3D_Reconstruction import sfm"
   ]
  },
  {
   "cell_type": "code",
   "execution_count": 8,
   "metadata": {},
   "outputs": [
    {
     "name": "stdout",
     "output_type": "stream",
     "text": [
      "REPROJECTION ERROR:  1.3291435775652214e-05\n"
     ]
    },
    {
     "name": "stderr",
     "output_type": "stream",
     "text": [
      "  0%|          | 0/2 [00:00<?, ?it/s]"
     ]
    },
    {
     "name": "stdout",
     "output_type": "stream",
     "text": [
      " Shape New Array (87, 2) (87, 2)\n"
     ]
    },
    {
     "name": "stderr",
     "output_type": "stream",
     "text": [
      "\n"
     ]
    },
    {
     "ename": "error",
     "evalue": "OpenCV(4.10.0) D:\\a\\opencv-python\\opencv-python\\opencv\\modules\\calib3d\\src\\solvepnp.cpp:227: error: (-215:Assertion failed) npoints >= 4 && npoints == std::max(ipoints.checkVector(2, CV_32F), ipoints.checkVector(2, CV_64F)) in function 'cv::solvePnPRansac'\n",
     "output_type": "error",
     "traceback": [
      "\u001b[1;31m---------------------------------------------------------------------------\u001b[0m",
      "\u001b[1;31merror\u001b[0m                                     Traceback (most recent call last)",
      "Cell \u001b[1;32mIn[8], line 2\u001b[0m\n\u001b[0;32m      1\u001b[0m a \u001b[38;5;241m=\u001b[39m sfm\u001b[38;5;241m.\u001b[39mSfm(src, ply)\n\u001b[1;32m----> 2\u001b[0m \u001b[43ma\u001b[49m\u001b[43m(\u001b[49m\u001b[43m)\u001b[49m\n",
      "File \u001b[1;32mc:\\Users\\nikit\\Desktop\\Учеба\\ИТМО\\ХАХАтон\\notebooks\\Multiview_3D_Reconstruction\\sfm.py:254\u001b[0m, in \u001b[0;36mSfm.__call__\u001b[1;34m(self, enable_bundle_adjustment)\u001b[0m\n\u001b[0;32m    251\u001b[0m cm_points_2 \u001b[38;5;241m=\u001b[39m features_2[cm_points_1]\n\u001b[0;32m    252\u001b[0m cm_points_cur \u001b[38;5;241m=\u001b[39m features_cur[cm_points_1]\n\u001b[1;32m--> 254\u001b[0m rot_matrix, tran_matrix, cm_points_2, points_3d, cm_points_cur \u001b[38;5;241m=\u001b[39m \u001b[38;5;28;43mself\u001b[39;49m\u001b[38;5;241;43m.\u001b[39;49m\u001b[43mPnP\u001b[49m\u001b[43m(\u001b[49m\u001b[43mpoints_3d\u001b[49m\u001b[43m[\u001b[49m\u001b[43mcm_points_0\u001b[49m\u001b[43m]\u001b[49m\u001b[43m,\u001b[49m\u001b[43m \u001b[49m\u001b[43mcm_points_2\u001b[49m\u001b[43m,\u001b[49m\u001b[43m \u001b[49m\u001b[38;5;28;43mself\u001b[39;49m\u001b[38;5;241;43m.\u001b[39;49m\u001b[43mimg_obj\u001b[49m\u001b[38;5;241;43m.\u001b[39;49m\u001b[43mK\u001b[49m\u001b[43m,\u001b[49m\u001b[43m \u001b[49m\u001b[43mnp\u001b[49m\u001b[38;5;241;43m.\u001b[39;49m\u001b[43mzeros\u001b[49m\u001b[43m(\u001b[49m\u001b[43m(\u001b[49m\u001b[38;5;241;43m5\u001b[39;49m\u001b[43m,\u001b[49m\u001b[43m \u001b[49m\u001b[38;5;241;43m1\u001b[39;49m\u001b[43m)\u001b[49m\u001b[43m,\u001b[49m\u001b[43m \u001b[49m\u001b[43mdtype\u001b[49m\u001b[38;5;241;43m=\u001b[39;49m\u001b[43mnp\u001b[49m\u001b[38;5;241;43m.\u001b[39;49m\u001b[43mfloat32\u001b[49m\u001b[43m)\u001b[49m\u001b[43m,\u001b[49m\u001b[43m \u001b[49m\u001b[43mcm_points_cur\u001b[49m\u001b[43m,\u001b[49m\u001b[43m \u001b[49m\u001b[43minitial\u001b[49m\u001b[43m \u001b[49m\u001b[38;5;241;43m=\u001b[39;49m\u001b[43m \u001b[49m\u001b[38;5;241;43m0\u001b[39;49m\u001b[43m)\u001b[49m\n\u001b[0;32m    255\u001b[0m transform_matrix_1 \u001b[38;5;241m=\u001b[39m np\u001b[38;5;241m.\u001b[39mhstack((rot_matrix, tran_matrix))\n\u001b[0;32m    256\u001b[0m pose_2 \u001b[38;5;241m=\u001b[39m np\u001b[38;5;241m.\u001b[39mmatmul(\u001b[38;5;28mself\u001b[39m\u001b[38;5;241m.\u001b[39mimg_obj\u001b[38;5;241m.\u001b[39mK, transform_matrix_1)\n",
      "File \u001b[1;32mc:\\Users\\nikit\\Desktop\\Учеба\\ИТМО\\ХАХАтон\\notebooks\\Multiview_3D_Reconstruction\\sfm.py:64\u001b[0m, in \u001b[0;36mSfm.PnP\u001b[1;34m(self, obj_point, image_point, K, dist_coeff, rot_vector, initial)\u001b[0m\n\u001b[0;32m     62\u001b[0m     image_point \u001b[38;5;241m=\u001b[39m image_point\u001b[38;5;241m.\u001b[39mT\n\u001b[0;32m     63\u001b[0m     rot_vector \u001b[38;5;241m=\u001b[39m rot_vector\u001b[38;5;241m.\u001b[39mT \n\u001b[1;32m---> 64\u001b[0m _, rot_vector_calc, tran_vector, inlier \u001b[38;5;241m=\u001b[39m \u001b[43mcv2\u001b[49m\u001b[38;5;241;43m.\u001b[39;49m\u001b[43msolvePnPRansac\u001b[49m\u001b[43m(\u001b[49m\u001b[43mobj_point\u001b[49m\u001b[43m,\u001b[49m\u001b[43m \u001b[49m\u001b[43mimage_point\u001b[49m\u001b[43m,\u001b[49m\u001b[43m \u001b[49m\u001b[43mK\u001b[49m\u001b[43m,\u001b[49m\u001b[43m \u001b[49m\u001b[43mdist_coeff\u001b[49m\u001b[43m,\u001b[49m\u001b[43m \u001b[49m\u001b[43mcv2\u001b[49m\u001b[38;5;241;43m.\u001b[39;49m\u001b[43mSOLVEPNP_ITERATIVE\u001b[49m\u001b[43m)\u001b[49m\n\u001b[0;32m     65\u001b[0m \u001b[38;5;66;03m# Converts a rotation matrix to a rotation vector or vice versa\u001b[39;00m\n\u001b[0;32m     66\u001b[0m rot_matrix, _ \u001b[38;5;241m=\u001b[39m cv2\u001b[38;5;241m.\u001b[39mRodrigues(rot_vector_calc)\n",
      "\u001b[1;31merror\u001b[0m: OpenCV(4.10.0) D:\\a\\opencv-python\\opencv-python\\opencv\\modules\\calib3d\\src\\solvepnp.cpp:227: error: (-215:Assertion failed) npoints >= 4 && npoints == std::max(ipoints.checkVector(2, CV_32F), ipoints.checkVector(2, CV_64F)) in function 'cv::solvePnPRansac'\n"
     ]
    }
   ],
   "source": [
    "a = sfm.Sfm(src, ply)\n",
    "a()"
   ]
  },
  {
   "cell_type": "code",
   "execution_count": 38,
   "metadata": {},
   "outputs": [
    {
     "name": "stdout",
     "output_type": "stream",
     "text": [
      "['../data/reconstruction\\\\photo_2024-09-06_15-48-06 (2).jpg', '../data/reconstruction\\\\photo_2024-09-06_15-48-06.jpg', '../data/reconstruction\\\\photo_2024-09-06_16-00-31.jpg']\n"
     ]
    },
    {
     "ename": "error",
     "evalue": "OpenCV(4.10.0) :-1: error: (-5:Bad argument) in function 'findEssentialMat'\n> Overload resolution failed:\n>  - 'flags' is an invalid keyword argument for findEssentialMat()\n>  - 'flags' is an invalid keyword argument for findEssentialMat()\n>  - 'flags' is an invalid keyword argument for findEssentialMat()\n>  - 'flags' is an invalid keyword argument for findEssentialMat()\n>  - findEssentialMat() missing required argument 'distCoeffs1' (pos 4)\n>  - findEssentialMat() missing required argument 'distCoeffs1' (pos 4)\n>  - findEssentialMat() missing required argument 'cameraMatrix2' (pos 4)\n>  - findEssentialMat() missing required argument 'cameraMatrix2' (pos 4)\n",
     "output_type": "error",
     "traceback": [
      "\u001b[1;31m---------------------------------------------------------------------------\u001b[0m",
      "\u001b[1;31merror\u001b[0m                                     Traceback (most recent call last)",
      "Cell \u001b[1;32mIn[38], line 26\u001b[0m\n\u001b[0;32m     21\u001b[0m gray \u001b[38;5;241m=\u001b[39m cv\u001b[38;5;241m.\u001b[39mcvtColor(img, cv\u001b[38;5;241m.\u001b[39mCOLOR_BGR2GRAY)\n\u001b[0;32m     22\u001b[0m \u001b[38;5;66;03m#cv.imshow('img', img)\u001b[39;00m\n\u001b[0;32m     23\u001b[0m \u001b[38;5;66;03m#cv.waitKey(0)\u001b[39;00m\n\u001b[0;32m     24\u001b[0m \n\u001b[0;32m     25\u001b[0m \u001b[38;5;66;03m# Find the chess board corners\u001b[39;00m\n\u001b[1;32m---> 26\u001b[0m ret, corners \u001b[38;5;241m=\u001b[39m \u001b[43mcv\u001b[49m\u001b[38;5;241;43m.\u001b[39;49m\u001b[43mfindEssentialMat\u001b[49m\u001b[43m(\u001b[49m\u001b[43mgray\u001b[49m\u001b[43m,\u001b[49m\u001b[43m \u001b[49m\u001b[43m(\u001b[49m\u001b[38;5;241;43m5\u001b[39;49m\u001b[43m,\u001b[49m\u001b[43m \u001b[49m\u001b[38;5;241;43m5\u001b[39;49m\u001b[43m)\u001b[49m\u001b[43m,\u001b[49m\u001b[43m \u001b[49m\u001b[38;5;28;43;01mNone\u001b[39;49;00m\u001b[43m,\u001b[49m\u001b[43m \u001b[49m\u001b[43mflags\u001b[49m\u001b[38;5;241;43m=\u001b[39;49m\u001b[43mcv\u001b[49m\u001b[38;5;241;43m.\u001b[39;49m\u001b[43mCALIB_CB_LARGER\u001b[49m\u001b[43m)\u001b[49m\n\u001b[0;32m     27\u001b[0m \u001b[38;5;28mprint\u001b[39m(ret)\n\u001b[0;32m     29\u001b[0m \u001b[38;5;66;03m# If found, add object points, image points (after refining them)\u001b[39;00m\n",
      "\u001b[1;31merror\u001b[0m: OpenCV(4.10.0) :-1: error: (-5:Bad argument) in function 'findEssentialMat'\n> Overload resolution failed:\n>  - 'flags' is an invalid keyword argument for findEssentialMat()\n>  - 'flags' is an invalid keyword argument for findEssentialMat()\n>  - 'flags' is an invalid keyword argument for findEssentialMat()\n>  - 'flags' is an invalid keyword argument for findEssentialMat()\n>  - findEssentialMat() missing required argument 'distCoeffs1' (pos 4)\n>  - findEssentialMat() missing required argument 'distCoeffs1' (pos 4)\n>  - findEssentialMat() missing required argument 'cameraMatrix2' (pos 4)\n>  - findEssentialMat() missing required argument 'cameraMatrix2' (pos 4)\n"
     ]
    }
   ],
   "source": [
    "import numpy as np\n",
    "import cv2 as cv\n",
    "import glob\n",
    " \n",
    "# termination criteria\n",
    "criteria = (cv.TERM_CRITERIA_EPS + cv.TERM_CRITERIA_MAX_ITER, 30, 0.001)\n",
    " \n",
    "# prepare object points, like (0,0,0), (1,0,0), (2,0,0) ....,(6,5,0)\n",
    "objp = np.zeros((6*7,3), np.float32)\n",
    "objp[:,:2] = np.mgrid[0:7,0:6].T.reshape(-1,2)\n",
    " \n",
    "# Arrays to store object points and image points from all the images.\n",
    "objpoints = [] # 3d point in real world space\n",
    "imgpoints = [] # 2d points in image plane.\n",
    " \n",
    "images = glob.glob('../data/reconstruction/*.jpg')\n",
    "print(images)\n",
    " \n",
    "for fname in images:\n",
    "    img = cv.imread(fname)\n",
    "    gray = cv.cvtColor(img, cv.COLOR_BGR2GRAY)\n",
    "    #cv.imshow('img', img)\n",
    "    #cv.waitKey(0)\n",
    " \n",
    "    # Find the chess board corners\n",
    "    ret, corners = cv.findEssentialMat(gray, (5, 5), None, flags=cv.CALIB_CB_LARGER)\n",
    "    print(ret)\n",
    " \n",
    "    # If found, add object points, image points (after refining them)\n",
    "    if ret == True:\n",
    "        objpoints.append(objp)\n",
    " \n",
    "        corners2 = cv.cornerSubPix(gray, corners, (11,11), (-1,-1), criteria)\n",
    "        imgpoints.append(corners2)\n",
    " \n",
    "        # Draw and display the corners\n",
    "        cv.drawChessboardCorners(img, (7,6), corners2, ret)\n",
    "        cv.imshow('img', img)\n",
    "        cv.waitKey(0)\n",
    " \n",
    "cv.destroyAllWindows()"
   ]
  }
 ],
 "metadata": {
  "kernelspec": {
   "display_name": "Python 3",
   "language": "python",
   "name": "python3"
  },
  "language_info": {
   "codemirror_mode": {
    "name": "ipython",
    "version": 3
   },
   "file_extension": ".py",
   "mimetype": "text/x-python",
   "name": "python",
   "nbconvert_exporter": "python",
   "pygments_lexer": "ipython3",
   "version": "3.12.2"
  }
 },
 "nbformat": 4,
 "nbformat_minor": 2
}
