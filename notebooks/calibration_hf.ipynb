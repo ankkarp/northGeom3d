{
 "cells": [
  {
   "cell_type": "code",
   "execution_count": 9,
   "outputs": [],
   "source": [
    "import cv2\n",
    "import numpy as np\n",
    "\n",
    "img_left = cv2.imread(r'D:\\study\\northGeom3d\\data\\calibrate\\imgs\\leftcamera\\Cam2_12.jpg', cv2.IMREAD_GRAYSCALE)\n",
    "img_right = cv2.imread(r'D:\\study\\northGeom3d\\data\\calibrate\\imgs\\rightcamera\\Cam1_12.jpg', cv2.IMREAD_GRAYSCALE)\n",
    "# Создание объекта StereoBM (блочное сопоставление)\n",
    "stereo = cv2.StereoBM_create(numDisparities=16*10, blockSize=21)\n",
    "\n",
    "# Вычисление карты диспаритета\n",
    "disparity = stereo.compute(img_left, img_right).astype(np.float32) / 16.0\n",
    "\n",
    "# Параметры объектива MVL-LF8040M-F\n",
    "focal_length = 80  # Фокусное расстояние объектива в мм (MVL-LF8040M-F)\n",
    "baseline = 0.412  # Расстояние между камерами в метрах (пример, установите своё)\n",
    "min_operation_distance = 0.230  # Минимальное рабочее расстояние объектива в метрах\n",
    "\n",
    "# Преобразование фокусного расстояния в пиксели\n",
    "# Обычно этот параметр зависит от параметров камеры (матрицы). Пример для матрицы с размером пикселя:\n",
    "sensor_pixel_size = 0.005  # Размер пикселя матрицы в мм (пример)\n",
    "focal_length_px = focal_length / sensor_pixel_size  # Преобразование в пиксели\n",
    "\n",
    "# Вычисление карты глубины\n",
    "depth_map = (focal_length_px * baseline) / (disparity + 1e-6)  # Добавляем малое значение, чтобы избежать деления на 0\n",
    "\n",
    "# Ограничиваем значения карты глубины, чтобы исключить слишком близкие или далёкие объекты\n",
    "depth_map[depth_map > 100] = 100  # Устанавливаем порог глубины в 100 метров (пример)\n",
    "depth_map[depth_map < min_operation_distance] = min_operation_distance  # Учитываем минимальное рабочее расстояние объектива\n",
    "\n",
    "# Нормализация карты глубины для визуализации\n",
    "depth_map_vis = cv2.normalize(depth_map, None, 0, 255, cv2.NORM_MINMAX)\n",
    "depth_map_vis = np.uint8(depth_map_vis)\n",
    "\n",
    "# Визуализация карты глубины\n",
    "depth_map_vis = cv2.resize(depth_map_vis,(512,512))\n",
    "cv2.imshow('Depth Map', depth_map_vis)\n",
    "cv2.waitKey(0)\n",
    "cv2.destroyAllWindows()"
   ],
   "metadata": {
    "collapsed": false,
    "pycharm": {
     "name": "#%%\n"
    }
   }
  },
  {
   "cell_type": "code",
   "execution_count": 10,
   "outputs": [
    {
     "ename": "error",
     "evalue": "OpenCV(4.6.0) D:\\a\\opencv-python\\opencv-python\\opencv\\modules\\highgui\\src\\window.cpp:862: error: (-215:Assertion failed) trackbar in function 'cv::getTrackbarPos'\n",
     "output_type": "error",
     "traceback": [
      "\u001B[1;31m---------------------------------------------------------------------------\u001B[0m",
      "\u001B[1;31merror\u001B[0m                                     Traceback (most recent call last)",
      "Input \u001B[1;32mIn [10]\u001B[0m, in \u001B[0;36mupdate_depth_map\u001B[1;34m(val)\u001B[0m\n\u001B[0;32m      5\u001B[0m \u001B[38;5;28;01mdef\u001B[39;00m \u001B[38;5;21mupdate_depth_map\u001B[39m(val):\n\u001B[0;32m      6\u001B[0m     \u001B[38;5;66;03m# Получение текущих значений с трекбаров\u001B[39;00m\n\u001B[0;32m      7\u001B[0m     numDisparities \u001B[38;5;241m=\u001B[39m cv2\u001B[38;5;241m.\u001B[39mgetTrackbarPos(\u001B[38;5;124m'\u001B[39m\u001B[38;5;124mNum Disparities\u001B[39m\u001B[38;5;124m'\u001B[39m, \u001B[38;5;124m'\u001B[39m\u001B[38;5;124mDepth Map\u001B[39m\u001B[38;5;124m'\u001B[39m) \u001B[38;5;241m*\u001B[39m \u001B[38;5;241m16\u001B[39m  \u001B[38;5;66;03m# numDisparities должно быть кратно 16\u001B[39;00m\n\u001B[1;32m----> 8\u001B[0m     blockSize \u001B[38;5;241m=\u001B[39m \u001B[43mcv2\u001B[49m\u001B[38;5;241;43m.\u001B[39;49m\u001B[43mgetTrackbarPos\u001B[49m\u001B[43m(\u001B[49m\u001B[38;5;124;43m'\u001B[39;49m\u001B[38;5;124;43mBlock Size\u001B[39;49m\u001B[38;5;124;43m'\u001B[39;49m\u001B[43m,\u001B[49m\u001B[43m \u001B[49m\u001B[38;5;124;43m'\u001B[39;49m\u001B[38;5;124;43mDepth Map\u001B[39;49m\u001B[38;5;124;43m'\u001B[39;49m\u001B[43m)\u001B[49m \u001B[38;5;241m*\u001B[39m \u001B[38;5;241m2\u001B[39m \u001B[38;5;241m+\u001B[39m \u001B[38;5;241m5\u001B[39m  \u001B[38;5;66;03m# Должно быть нечетным и >= 5\u001B[39;00m\n\u001B[0;32m     10\u001B[0m     \u001B[38;5;66;03m# Обновляем объект StereoBM с новыми параметрами\u001B[39;00m\n\u001B[0;32m     11\u001B[0m     stereo \u001B[38;5;241m=\u001B[39m cv2\u001B[38;5;241m.\u001B[39mStereoBM_create(numDisparities\u001B[38;5;241m=\u001B[39mnumDisparities, blockSize\u001B[38;5;241m=\u001B[39mblockSize)\n",
      "\u001B[1;31merror\u001B[0m: OpenCV(4.6.0) D:\\a\\opencv-python\\opencv-python\\opencv\\modules\\highgui\\src\\window.cpp:862: error: (-215:Assertion failed) trackbar in function 'cv::getTrackbarPos'\n"
     ]
    }
   ],
   "source": [
    "import cv2\n",
    "import numpy as np\n",
    "\n",
    "# Функция обновления карты глубины\n",
    "def update_depth_map(val):\n",
    "    # Получение текущих значений с трекбаров\n",
    "    numDisparities = cv2.getTrackbarPos('Num Disparities', 'Depth Map') * 16  # numDisparities должно быть кратно 16\n",
    "    blockSize = cv2.getTrackbarPos('Block Size', 'Depth Map') * 2 + 5  # Должно быть нечетным и >= 5\n",
    "\n",
    "    # Обновляем объект StereoBM с новыми параметрами\n",
    "    stereo = cv2.StereoBM_create(numDisparities=numDisparities, blockSize=blockSize)\n",
    "\n",
    "    # Вычисление карты диспаритета\n",
    "    disparity = stereo.compute(img_left, img_right).astype(np.float32) / 16.0\n",
    "\n",
    "    # Вычисление карты глубины\n",
    "    depth_map = (focal_length_px * baseline) / (disparity + 1e-6)\n",
    "\n",
    "    # Ограничиваем значения карты глубины\n",
    "    depth_map[depth_map > 100] = 100\n",
    "    depth_map[depth_map < min_operation_distance] = min_operation_distance\n",
    "\n",
    "    # Нормализация карты глубины для визуализации\n",
    "    depth_map_vis = cv2.normalize(depth_map, None, 0, 255, cv2.NORM_MINMAX)\n",
    "    depth_map_vis = np.uint8(depth_map_vis)\n",
    "\n",
    "    # Масштабируем и отображаем карту глубины\n",
    "    depth_map_vis = cv2.resize(depth_map_vis, (512, 512))\n",
    "    cv2.imshow('Depth Map', depth_map_vis)\n",
    "\n",
    "# Чтение изображений с двух камер\n",
    "img_left = cv2.imread(r'D:\\study\\northGeom3d\\data\\calibrate\\imgs\\leftcamera\\Cam2_12.jpg', cv2.IMREAD_GRAYSCALE)\n",
    "img_right = cv2.imread(r'D:\\study\\northGeom3d\\data\\calibrate\\imgs\\rightcamera\\Cam1_12.jpg', cv2.IMREAD_GRAYSCALE)\n",
    "\n",
    "# Параметры объектива MVL-LF8040M-F\n",
    "focal_length = 80  # Фокусное расстояние объектива в мм\n",
    "baseline = 0.412  # Расстояние между камерами в метрах\n",
    "min_operation_distance = 0.230  # Минимальное рабочее расстояние объектива в метрах\n",
    "\n",
    "# Преобразование фокусного расстояния в пиксели\n",
    "sensor_pixel_size = 0.005  # Размер пикселя матрицы в мм\n",
    "focal_length_px = focal_length / sensor_pixel_size  # Преобразование фокусного расстояния в пиксели\n",
    "\n",
    "# Создание окна для отображения карты глубины\n",
    "cv2.namedWindow('Depth Map')\n",
    "\n",
    "# Создание трекбаров для настройки параметров\n",
    "cv2.createTrackbar('Num Disparities', 'Depth Map', 10, 16, update_depth_map)  # numDisparities от 10*16 до 16*16\n",
    "cv2.createTrackbar('Block Size', 'Depth Map', 8, 25, update_depth_map)  # blockSize от 5 до 51\n",
    "\n",
    "# Инициализация карты глубины с начальными параметрами\n",
    "update_depth_map(0)\n",
    "\n",
    "# Ожидание клавиши для выхода\n",
    "cv2.waitKey(0)\n",
    "cv2.destroyAllWindows()"
   ],
   "metadata": {
    "collapsed": false,
    "pycharm": {
     "name": "#%%\n"
    }
   }
  },
  {
   "cell_type": "code",
   "execution_count": null,
   "outputs": [],
   "source": [],
   "metadata": {
    "collapsed": false,
    "pycharm": {
     "name": "#%%\n"
    }
   }
  }
 ],
 "metadata": {
  "kernelspec": {
   "display_name": "Python 3",
   "language": "python",
   "name": "python3"
  },
  "language_info": {
   "codemirror_mode": {
    "name": "ipython",
    "version": 2
   },
   "file_extension": ".py",
   "mimetype": "text/x-python",
   "name": "python",
   "nbconvert_exporter": "python",
   "pygments_lexer": "ipython2",
   "version": "2.7.6"
  }
 },
 "nbformat": 4,
 "nbformat_minor": 0
}