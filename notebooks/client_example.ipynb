{
 "cells": [
  {
   "cell_type": "code",
   "execution_count": null,
   "metadata": {},
   "outputs": [],
   "source": [
    "import requests\n",
    "\n",
    "def send_files_to_server(image1_path, image2_path, yaml_path):\n",
    "    url = 'http://localhost:420/api/test'\n",
    "    files = {\n",
    "        'image1': open(image1_path, 'rb'),\n",
    "        'image2': open(image2_path, 'rb'),\n",
    "        'yaml_file': open(yaml_path, 'rb')\n",
    "    }\n",
    "\n",
    "    response = requests.post(url, files=files)\n",
    "\n",
    "    if response.status_code == 200:\n",
    "        data = response.json()\n",
    "        plot_html = data['plot_html']\n",
    "        stl_file = data['stl_file']\n",
    "\n",
    "        # Save the plot HTML and STL JSON to files\n",
    "        with open('plot.html', 'w', encoding='utf-8') as f:\n",
    "            f.write(plot_html)\n",
    "\n",
    "        with open('output.stl.json', 'w') as f:\n",
    "            f.write(stl_file)\n",
    "\n",
    "        print(\"Files received and saved successfully.\")\n",
    "    else:\n",
    "        print(\"Failed to receive files:\", response.text)\n",
    "\n",
    "# Example usage\n",
    "image1_path = './data/image.png'\n",
    "yaml_file_path = './data/conf.yaml'\n",
    "\n",
    "response = send_files_to_server(image1_path, image1_path, yaml_file_path)\n",
    "response.json()"
   ]
  }
 ],
 "metadata": {
  "language_info": {
   "name": "python"
  }
 },
 "nbformat": 4,
 "nbformat_minor": 2
}
