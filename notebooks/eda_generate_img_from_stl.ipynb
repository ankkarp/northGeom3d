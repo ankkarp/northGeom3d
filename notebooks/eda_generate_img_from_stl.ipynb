{
 "cells": [
  {
   "cell_type": "code",
   "execution_count": 10,
   "outputs": [],
   "source": [
    "import numpy as np\n",
    "from stl import mesh\n",
    "from mpl_toolkits import mplot3d\n",
    "from matplotlib import pyplot as plt\n",
    "import cv2\n",
    "import os\n",
    "\n",
    "# Функция для генерации изображений и масок\n",
    "def generate_dataset(mesh_file, output_dir, angles, image_size=(256, 256)):\n",
    "    # Проверка и создание директории для сохранения данных\n",
    "    if not os.path.exists(output_dir):\n",
    "        os.makedirs(output_dir)\n",
    "\n",
    "    # Загрузка STL файла\n",
    "    your_mesh = mesh.Mesh.from_file(mesh_file)\n",
    "\n",
    "    for i, angle in enumerate(angles):\n",
    "        # Создание новой фигуры и осей для 3D визуализации\n",
    "        fig = plt.figure()\n",
    "        ax = fig.add_subplot(111, projection='3d')\n",
    "\n",
    "        # Добавление объекта из STL файла на оси\n",
    "        ax.add_collection3d(mplot3d.art3d.Poly3DCollection(your_mesh.vectors))\n",
    "\n",
    "        # Масштабирование к размеру объекта\n",
    "        scale = your_mesh.points.flatten()\n",
    "        ax.auto_scale_xyz(scale, scale, scale)\n",
    "\n",
    "        # Установка ракурса\n",
    "        ax.view_init(elev=angle[0], azim=angle[1])\n",
    "\n",
    "        # Отключение осей\n",
    "        ax.axis('off')\n",
    "\n",
    "        # Сохранение изображения\n",
    "        image_path = os.path.join(output_dir, f'image_{i}.png')\n",
    "        plt.savefig(image_path, bbox_inches='tight', pad_inches=0)\n",
    "        plt.close(fig)\n",
    "\n",
    "        # Загрузка и изменение размера изображения\n",
    "        image = cv2.imread(image_path, cv2.IMREAD_GRAYSCALE)\n",
    "        image_resized = cv2.resize(image, image_size)\n",
    "\n",
    "        # Применение порогового сегментирования для создания маски\n",
    "        _, segmented = cv2.threshold(image_resized, 1, 255, cv2.THRESH_BINARY)\n",
    "\n",
    "        # Сохранение маски\n",
    "        mask_path = os.path.join(output_dir, f'mask_{i}.png')\n",
    "        cv2.imwrite(mask_path, segmented)\n",
    "\n",
    "        # Перезапись изображения в нужном разрешении\n",
    "        cv2.imwrite(image_path, image_resized)\n",
    "\n",
    "# Углы обзора (например, вид сверху, сбоку и т.д.)\n",
    "angles = [(90, 90), (90, 0), (0, 90), (0, 0), (45, 45)]\n",
    "\n",
    "# Путь к STL файлу и выходной директории\n",
    "mesh_file = '../data/moon.stl'\n",
    "output_dir = '../output'\n",
    "\n",
    "# Генерация датасета\n",
    "generate_dataset(mesh_file, output_dir, angles)\n"
   ],
   "metadata": {
    "collapsed": false,
    "pycharm": {
     "name": "#%%\n"
    }
   }
  },
  {
   "cell_type": "code",
   "execution_count": null,
   "outputs": [],
   "source": [],
   "metadata": {
    "collapsed": false,
    "pycharm": {
     "name": "#%%\n"
    }
   }
  }
 ],
 "metadata": {
  "kernelspec": {
   "display_name": "Python 3",
   "language": "python",
   "name": "python3"
  },
  "language_info": {
   "codemirror_mode": {
    "name": "ipython",
    "version": 2
   },
   "file_extension": ".py",
   "mimetype": "text/x-python",
   "name": "python",
   "nbconvert_exporter": "python",
   "pygments_lexer": "ipython2",
   "version": "2.7.6"
  }
 },
 "nbformat": 4,
 "nbformat_minor": 0
}